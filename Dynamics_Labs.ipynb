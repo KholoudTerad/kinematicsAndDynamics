{
  "nbformat": 4,
  "nbformat_minor": 0,
  "metadata": {
    "colab": {
      "provenance": []
    },
    "kernelspec": {
      "name": "python3",
      "display_name": "Python 3"
    },
    "language_info": {
      "name": "python"
    }
  },
  "cells": [
    {
      "cell_type": "code",
      "source": [
        "#task 1\n",
        "\n",
        "import math\n",
        "\n",
        "def rotation_matrix_x(theta):\n",
        "\n",
        "  cos_theta = math.cos(theta)\n",
        "  sin_theta = math.sin(theta)\n",
        "  return [[1, 0, 0],\n",
        "          [0, cos_theta, -sin_theta],\n",
        "          [0, sin_theta, cos_theta]]\n",
        "\n",
        "\n",
        "def rotation_matrix_y(theta):\n",
        "\n",
        "  cos_theta = math.cos(theta)\n",
        "  sin_theta = math.sin(theta)\n",
        "  return [[cos_theta, 0, sin_theta],\n",
        "          [0, 1, 0],\n",
        "          [-sin_theta, 0, cos_theta]]\n",
        "\n",
        "def rotation_matrix_z(theta):\n",
        "\n",
        "  cos_theta = math.cos(theta)\n",
        "  sin_theta = math.sin(theta)\n",
        "  return [[cos_theta, -sin_theta, 0],\n",
        "          [sin_theta, cos_theta, 0],\n",
        "          [0, 0, 1]]\n",
        "\n",
        "# Example usage\n",
        "theta_x = math.pi/4  # 45 degrees rotation around X-axis\n",
        "rot_matrix_x = rotation_matrix_x(theta_x)\n",
        "print(\"Rotation matrix around X-axis by 45 degrees:\")\n",
        "print(rot_matrix_x)"
      ],
      "metadata": {
        "colab": {
          "base_uri": "https://localhost:8080/"
        },
        "id": "EGKky7IEUxCo",
        "outputId": "5a25a881-677f-4445-f5e0-12ec476b829d"
      },
      "execution_count": null,
      "outputs": [
        {
          "output_type": "stream",
          "name": "stdout",
          "text": [
            "Rotation matrix around X-axis by 45 degrees:\n",
            "[[1, 0, 0], [0, 0.7071067811865476, -0.7071067811865475], [0, 0.7071067811865475, 0.7071067811865476]]\n"
          ]
        }
      ]
    },
    {
      "cell_type": "code",
      "source": [
        "#task 2\n",
        "\n",
        "import numpy as np\n",
        "\n",
        "def combine_rotations(rot_mat1, rot_mat2):\n",
        "\n",
        "  return np.matmul(rot_mat1, rot_mat2)  # Matrix multiplication using numpy\n",
        "\n",
        "\n",
        "# Example usage (assuming you have rotation matrices from Lab 1)\n",
        "combined_rot = combine_rotations(rot_matrix_x, rotation_matrix_y(math.pi/2))  # Rotate around X then Y by 90 degrees\n",
        "print(\"Combined rotation matrix (X then Y 90 degrees):\")\n",
        "print(combined_rot)"
      ],
      "metadata": {
        "colab": {
          "base_uri": "https://localhost:8080/"
        },
        "id": "7MPfSCxQUqOD",
        "outputId": "fd1debf6-23f0-4cf9-c8ed-0d794d5e40b6"
      },
      "execution_count": null,
      "outputs": [
        {
          "output_type": "stream",
          "name": "stdout",
          "text": [
            "Combined rotation matrix (X then Y 90 degrees):\n",
            "[[ 6.12323400e-17  0.00000000e+00  1.00000000e+00]\n",
            " [ 7.07106781e-01  7.07106781e-01 -4.32978028e-17]\n",
            " [-7.07106781e-01  7.07106781e-01  4.32978028e-17]]\n"
          ]
        }
      ]
    }
  ]
}